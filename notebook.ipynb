{
 "cells": [
  {
   "cell_type": "code",
   "execution_count": 5,
   "metadata": {},
   "outputs": [
    {
     "name": "stdout",
     "output_type": "stream",
     "text": [
      "<Response [200]>\n",
      "<title>Open Food Facts - World</title>\n",
      "{   'barcode': '3274080005003 (EAN / EAN-13)',\n",
      "    'brands': 'Cristaline',\n",
      "    'categories': 'Beverages, Waters',\n",
      "    'code': '3274080005003',\n",
      "    'image_url': 'https://images.openfoodfacts.org/images/products/327/408/000/5003/front_en.797.400.jpg',\n",
      "    'imported_t': '',\n",
      "    'packaging': 'Lid or cap, Plastic, Bottle cap, Bottle or vial, Bottle',\n",
      "    'product_name': 'Eau de source - Cristaline -\\xa01,5\\xa0L',\n",
      "    'quantity': '1,5 L',\n",
      "    'status': '',\n",
      "    'url': 'https://world.openfoodfacts.org/product/3274080005003/eau-de-source-cristaline'}\n",
      "# --------------------------------------------- #\n",
      "{   'barcode': '3017620422003 (EAN / EAN-13)',\n",
      "    'brands': 'Ferrero',\n",
      "    'categories': 'Breakfasts, Spreads, Sweet spreads, fr:Pâtes à tartiner, '\n",
      "                  'Hazelnut spreads, Chocolate spreads, Cocoa and hazelnuts '\n",
      "                  'spreads',\n",
      "    'code': '3017620422003',\n",
      "    'image_url': 'https://images.openfoodfacts.org/images/products/301/762/042/2003/front_en.550.400.jpg',\n",
      "    'imported_t': '',\n",
      "    'packaging': 'Plastic, fr:Pot en verre',\n",
      "    'product_name': 'Nutella - Ferrero -\\xa0400\\xa0g',\n",
      "    'quantity': '400 g',\n",
      "    'status': '',\n",
      "    'url': 'https://world.openfoodfacts.org/product/3017620422003/nutella-ferrero'}\n",
      "# --------------------------------------------- #\n",
      "{   'barcode': '7622210449283 (EAN / EAN-13)',\n",
      "    'brands': 'Lu, Mondelez',\n",
      "    'categories': 'Snacks, Sweet snacks, Biscuits and cakes, Cakes, Chocolate '\n",
      "                  'cakes',\n",
      "    'code': '7622210449283',\n",
      "    'image_url': 'https://images.openfoodfacts.org/images/products/762/221/044/9283/front_fr.564.400.jpg',\n",
      "    'imported_t': '',\n",
      "    'packaging': 'Packet, Hdpe film-packet, fr:Etui en carton, fr:Film en '\n",
      "                 'plastique',\n",
      "    'product_name': 'Prince Chocolat biscuits - Lu -\\xa0300\\xa0g',\n",
      "    'quantity': '300 g',\n",
      "    'status': '',\n",
      "    'url': 'https://world.openfoodfacts.org/product/7622210449283/prince-chocolat-biscuits-lu'}\n",
      "# --------------------------------------------- #\n"
     ]
    }
   ],
   "source": [
    "import requests\n",
    "from bs4 import BeautifulSoup as BSoup\n",
    "import pprint\n",
    "\n",
    "link = \"https://world.openfoodfacts.org\"\n",
    "\n",
    "request = requests.get(link)\n",
    "\n",
    "print(request)\n",
    "# print(request.text)\n",
    "\n",
    "soup = BSoup(request.text, \"html.parser\")\n",
    "\n",
    "# products = site.find(id=\"products_match_all\")\n",
    "title = soup.find(\"title\")\n",
    "print(title)\n",
    "\n",
    "# ok\n",
    "search_results = soup.find('div', id=\"search_results\")\n",
    "# print(search_results)\n",
    "\n",
    "products = soup.find('ul', class_=\"products\")\n",
    "# print(products)\n",
    "\n",
    "products_itens = products.find_all('li')\n",
    "\n",
    "for item in products_itens[:3]:\n",
    "    # print(item)\n",
    "    item_href = item.find(\"a\").attrs['href']\n",
    "    product_name = item.find(\"span\").text\n",
    "    \n",
    "    request_item = requests.get(f\"{link}{item_href}\")\n",
    "\n",
    "    soup_item = BSoup(request_item.text, \"html.parser\")\n",
    "\n",
    "    # print(soup_item.find(\"div\",id=\"prodInfos\"))\n",
    "    # print(soup_item.find(\"section\",id=\"product\"))\n",
    "\n",
    "    section = soup_item.find(\"section\",id=\"product\")\n",
    "    \n",
    "    item_json = dict()\n",
    "\n",
    "    item_json['code'] = section.find(\"span\", id=\"barcode\").text\n",
    "    barcode_paragraph = section.find(\"p\", id=\"barcode_paragraph\").text\n",
    "    item_json['code'] = section.find(\"span\", id=\"barcode\").text\n",
    "    item_json['barcode'] = barcode_paragraph.strip().replace('Barcode:','').strip()\n",
    "    item_json['status'] = ''\n",
    "    item_json['imported_t'] = ''\n",
    "    item_json['url'] = f\"{link}{item_href}\"\n",
    "    item_json['product_name'] = product_name\n",
    "    item_json['quantity'] = section.find(\"span\", id=\"field_quantity_value\").text\n",
    "    item_json['categories'] = section.find(\"span\", id=\"field_categories_value\").text\n",
    "    item_json['packaging'] = section.find(\"span\", id=\"field_packaging_value\").text\n",
    "    item_json['brands'] = section.find(\"span\", id=\"field_brands_value\").text\n",
    "    item_json['image_url'] = section.find(\"img\", id=\"og_image\").attrs['src']\n",
    "\n",
    "\n",
    "    pp = pprint.PrettyPrinter(indent=4)\n",
    "    pp.pprint(item_json)\n",
    "    \n",
    "    # print(section.find(\"div\",class_=\"medium-8\"))\n",
    "\n",
    "    # print(section.find(\"img\", id=\"og_image\"))\n",
    "\n",
    "    # # print(soup_item.find(\"h2\", class_=\"title-1\").text)\n",
    "    # print(soup_item.find(\"p\", id=\"barcode_paragraph\"))\n",
    "    \n",
    "    print('# --------------------------------------------- #')\n",
    "\n",
    "\n",
    "# products = soup.find('div', id=\"products_all\")\n",
    "# print(products)\n",
    "\n",
    "# products = soup.find_all('ul', class_=\"search_results\")\n",
    "# print(products)\n",
    "\n",
    "# products = soup.find_all(\"ul\", attrs={\"class\": \"search_results\"})\n",
    "# print(products)\n",
    "\n",
    "# products = soup.find('ul', id=\"products_match_all\")\n",
    "# print(products)\n",
    "\n"
   ]
  },
  {
   "cell_type": "code",
   "execution_count": 27,
   "metadata": {},
   "outputs": [
    {
     "data": {
      "text/plain": [
       "4.4"
      ]
     },
     "execution_count": 27,
     "metadata": {},
     "output_type": "execute_result"
    }
   ],
   "source": [
    "110 / 25"
   ]
  },
  {
   "cell_type": "code",
   "execution_count": 23,
   "metadata": {},
   "outputs": [
    {
     "data": {
      "text/plain": [
       "908"
      ]
     },
     "execution_count": 23,
     "metadata": {},
     "output_type": "execute_result"
    }
   ],
   "source": [
    "290 + 324 + 128 + 106 + 60"
   ]
  }
 ],
 "metadata": {
  "kernelspec": {
   "display_name": "desafio",
   "language": "python",
   "name": "python3"
  },
  "language_info": {
   "codemirror_mode": {
    "name": "ipython",
    "version": 3
   },
   "file_extension": ".py",
   "mimetype": "text/x-python",
   "name": "python",
   "nbconvert_exporter": "python",
   "pygments_lexer": "ipython3",
   "version": "3.10.4"
  },
  "orig_nbformat": 4
 },
 "nbformat": 4,
 "nbformat_minor": 2
}
